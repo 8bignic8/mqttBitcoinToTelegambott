{
 "cells": [
  {
   "cell_type": "code",
   "execution_count": 2,
   "metadata": {},
   "outputs": [],
   "source": [
    "#Version 02122021\n",
    "import json\n",
    "import os\n",
    "import requests"
   ]
  },
  {
   "cell_type": "code",
   "execution_count": 3,
   "metadata": {},
   "outputs": [],
   "source": [
    "def findID(token):\n",
    "    if ':' in token: #checks if a valid Telegram token has been inputed\n",
    "        method = 'getUpdates' #sets the telegram request status\n",
    "        response = requests.post(\n",
    "            url='https://api.telegram.org/bot{0}/{1}'.format(token, method) #reqets the updates with the token\n",
    "        ).json()\n",
    "        chatID = (((response['result'][1])['message'])['chat'])['id'] #searches in the dict for the chat message token\n",
    "        print('Your Chat ID is' + str(chatID)) #shows it to the user\n",
    "        return chatID\n",
    "    else:\n",
    "        print('Not the right Token :/')"
   ]
  },
  {
   "cell_type": "code",
   "execution_count": 4,
   "metadata": {},
   "outputs": [
    {
     "name": "stdout",
     "output_type": "stream",
     "text": [
      "You need to setup your Telegram Bot and add it to a Group with you!!, than send a message in the group to initialize the connection\n",
      "Set your BOT TOKEN e.g.: 213477740.......wfVg --> \n",
      "Set the value Bitcoin needs to change to get a Telegam message : default 1000 € change --> \n",
      "Set your mqTTBroker adress e.g.: 192.168.0.42 or localhost --> \n",
      "Set your mqTTSub for the Bitcoin value e.g.: /home/bitcoin/euro --> \n",
      "Your Chat ID is-641250410\n"
     ]
    }
   ],
   "source": [
    "##Input part\n",
    "print('You need to setup your Telegram bot and add it to a group with you!!, than send a message in the group to initialize the connection')\n",
    "token = input('Set your BOT TOKEN e.g.: 213477740:ssf.......wfVg --> ') or 'ERR'\n",
    "changeValue = input('Set the value, Bitcoin needs to change to get a Telegam message : (number) default 1000 --> ') or '1000'\n",
    "mqTTBroker = input('Set your mqTTBroker adress e.g.: 192.168.0.42 or localhost --> ') or 'localhost'\n",
    "mqTTSub = input('Set your mqTTSub for the Bitcoin value e.g.: /home/bitcoin/euro --> ') or '/home/bitcoin/euro'\n",
    "\n",
    "####Setup config as dict\n",
    "config = {'myuserid': findID(token),\n",
    "        'token': token,\n",
    "         'changeValue': changeValue,\n",
    "         'mqTTSub':mqTTSub,\n",
    "         'mqTTBroker': mqTTBroker}"
   ]
  },
  {
   "cell_type": "code",
   "execution_count": 5,
   "metadata": {},
   "outputs": [],
   "source": [
    "##Writing JSON with established dict\n",
    "try: \n",
    "    with open('config.json', 'w', encoding='utf-8') as f: #writing config.json in utf-8\n",
    "        json.dump(config, f)\n",
    "except:\n",
    "    print('config file write error')"
   ]
  },
  {
   "cell_type": "code",
   "execution_count": null,
   "metadata": {},
   "outputs": [],
   "source": []
  },
  {
   "cell_type": "code",
   "execution_count": null,
   "metadata": {},
   "outputs": [],
   "source": []
  }
 ],
 "metadata": {
  "kernelspec": {
   "display_name": "Python 3",
   "language": "python",
   "name": "python3"
  },
  "language_info": {
   "codemirror_mode": {
    "name": "ipython",
    "version": 3
   },
   "file_extension": ".py",
   "mimetype": "text/x-python",
   "name": "python",
   "nbconvert_exporter": "python",
   "pygments_lexer": "ipython3",
   "version": "3.7.3"
  }
 },
 "nbformat": 4,
 "nbformat_minor": 2
}
