{
 "cells": [
  {
   "cell_type": "code",
   "execution_count": 1,
   "metadata": {},
   "outputs": [],
   "source": [
    "#!/usr/bin/env python\n",
    "# coding: utf-8\n",
    "#You need telegram_send and paho.mqtt installed and also setup you Telegramm bot with the BotFather\n",
    "#https://core.telegram.org/bots\n",
    "#!pip3 install telegram_send\n",
    "#pip3 install paho-mqtt\n",
    "\n",
    "import paho.mqtt.client as mqtt\n",
    "import time\n",
    "import json\n",
    "import telegram_send\n",
    "import requests\n",
    "#https://janakiev.com/blog/python-background/\n",
    "\n",
    "#automatic reading of the config JSON\n",
    "json_config_path = \"config.json\""
   ]
  },
  {
   "cell_type": "code",
   "execution_count": 2,
   "metadata": {},
   "outputs": [],
   "source": [
    "### https://stackoverflow.com/questions/16573332/jsondecodeerror-expecting-value-line-1-column-1-char-0\n",
    "with open(json_config_path, 'r') as j:\n",
    "     config = json.loads(j.read())"
   ]
  },
  {
   "cell_type": "code",
   "execution_count": 3,
   "metadata": {},
   "outputs": [],
   "source": [
    "def sendTGMessage(Message, config):\n",
    "    #https://stackoverflow.com/questions/41174831/telegram-bot-chat-not-found\n",
    "    method = 'sendMessage'\n",
    "    Message = str(Message) + ' €'\n",
    "    response = requests.post(\n",
    "        url='https://api.telegram.org/bot{0}/{1}'.format(config['token'], method),\n",
    "        data={'chat_id': config['myuserid'], 'text': str(Message)}\n",
    "    ).json()\n",
    "    #print(response)"
   ]
  },
  {
   "cell_type": "code",
   "execution_count": null,
   "metadata": {},
   "outputs": [
    {
     "name": "stdout",
     "output_type": "stream",
     "text": [
      "Connected with result code 0\n"
     ]
    }
   ],
   "source": [
    "#Telegram Part: \n",
    "\n",
    "#https://medium.com/@robertbracco1/how-to-write-a-telegram-bot-to-send-messages-with-python-bcdf45d0a580\n",
    "def on_connect(client, userdata, flags, rc):\n",
    "    print(\"Connected with result code \" + str(rc))\n",
    "    client.subscribe(config['mqTTSub']) # mit # wird alles ab da subscribed\n",
    "\n",
    "    \n",
    "    \n",
    "old = 0\n",
    "def change(new,changeAM):\n",
    "    global old\n",
    "    if (not(old == new)and(abs(new - old)>changeAM)):\n",
    "        old = new\n",
    "        return True\n",
    "\n",
    "    \n",
    "\n",
    "def on_message(client, userdata, msg):\n",
    "    \n",
    "    mqttData = (str(json.loads(msg.payload)).split('.')[0])\n",
    "    \n",
    "    if change(int(mqttData),int(config['changeValue'])):\n",
    "        sendTGMessage(mqttData, config) \n",
    "\n",
    "        \n",
    "###Main loop\n",
    "client = mqtt.Client()\n",
    "client.on_connect = on_connect\n",
    "client.on_message = on_message\n",
    "\n",
    "client.connect(config['mqTTBroker'], 1883, 60)\n",
    "\n",
    "client.loop_forever()"
   ]
  },
  {
   "cell_type": "code",
   "execution_count": null,
   "metadata": {},
   "outputs": [],
   "source": []
  }
 ],
 "metadata": {
  "kernelspec": {
   "display_name": "Python 3",
   "language": "python",
   "name": "python3"
  }
 },
 "nbformat": 4,
 "nbformat_minor": 2
}
